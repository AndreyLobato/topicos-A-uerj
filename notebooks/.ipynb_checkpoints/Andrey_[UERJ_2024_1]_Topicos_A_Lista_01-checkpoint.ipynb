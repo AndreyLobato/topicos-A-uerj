{
 "cells": [
  {
   "cell_type": "markdown",
   "metadata": {
    "id": "AXr-cC5a333h"
   },
   "source": [
    "## Universidade do Estado do Rio de Janeiro\n",
    "## Departamento de Engenharia de Sistemas e Computação\n",
    "\n",
    "### Tópicos Especiais A - Lista 1\n",
    "\n",
    "### Estudante:"
   ]
  },
  {
   "cell_type": "markdown",
   "metadata": {
    "id": "xYATB3KJ333n"
   },
   "source": [
    "Neste trabalho, usaremos a base de dados de Survey do StackoverFlow. Faça todos os itens que se pedem abaixo, não esquecendo de **justificá-los**.\n",
    "\n",
    "Faça o download do dataset (ano de 2023, seguindo o link https://insights.stackoverflow.com/survey/). Copie o caminho do arquivo csv (`survey_results_public.csv`) para carregar a base de dados e responda aos itens seguintes.\n",
    "\n",
    "OBS: qualquer dúvida em relação às colunas, você pode consultar o PDF com as perguntas que foram feitas aos entrevistados."
   ]
  },
  {
   "cell_type": "code",
   "execution_count": 61,
   "metadata": {
    "id": "jqTpQKsc333o"
   },
   "outputs": [],
   "source": [
    "# Faça aqui o import de todas as libraries que você julgue importante :)\n",
    "\n",
    "import pandas as pd\n",
    "import seaborn as sns\n",
    "import numpy as np\n",
    "import matplotlib.pyplot as plt\n"
   ]
  },
  {
   "cell_type": "code",
   "execution_count": 27,
   "metadata": {
    "id": "FJVG5gqmQXUZ"
   },
   "outputs": [],
   "source": [
    "#Import dataset\n",
    "url = 'https://media.githubusercontent.com/media/AndreyLobato/topicos-A-uerj/main/dataset/survey_results_public.csv'\n",
    "df = pd.read_csv(url)"
   ]
  },
  {
   "cell_type": "code",
   "execution_count": 19,
   "metadata": {},
   "outputs": [],
   "source": [
    "# pd.set_option('display.max_columns', 10)"
   ]
  },
  {
   "cell_type": "markdown",
   "metadata": {
    "id": "j5v8TnQf333s"
   },
   "source": [
    "#### 1. Faça uma primeira análise exploratória dos atributos existentes. Quais são aqueles que você julga não serem úteis? Por que?"
   ]
  },
  {
   "cell_type": "code",
   "execution_count": 21,
   "metadata": {},
   "outputs": [
    {
     "data": {
      "text/html": [
       "<div>\n",
       "<style scoped>\n",
       "    .dataframe tbody tr th:only-of-type {\n",
       "        vertical-align: middle;\n",
       "    }\n",
       "\n",
       "    .dataframe tbody tr th {\n",
       "        vertical-align: top;\n",
       "    }\n",
       "\n",
       "    .dataframe thead th {\n",
       "        text-align: right;\n",
       "    }\n",
       "</style>\n",
       "<table border=\"1\" class=\"dataframe\">\n",
       "  <thead>\n",
       "    <tr style=\"text-align: right;\">\n",
       "      <th></th>\n",
       "      <th>ResponseId</th>\n",
       "      <th>Q120</th>\n",
       "      <th>MainBranch</th>\n",
       "      <th>Age</th>\n",
       "      <th>Employment</th>\n",
       "      <th>...</th>\n",
       "      <th>ProfessionalTech</th>\n",
       "      <th>Industry</th>\n",
       "      <th>SurveyLength</th>\n",
       "      <th>SurveyEase</th>\n",
       "      <th>ConvertedCompYearly</th>\n",
       "    </tr>\n",
       "  </thead>\n",
       "  <tbody>\n",
       "    <tr>\n",
       "      <th>0</th>\n",
       "      <td>1</td>\n",
       "      <td>I agree</td>\n",
       "      <td>None of these</td>\n",
       "      <td>18-24 years old</td>\n",
       "      <td>NaN</td>\n",
       "      <td>...</td>\n",
       "      <td>NaN</td>\n",
       "      <td>NaN</td>\n",
       "      <td>NaN</td>\n",
       "      <td>NaN</td>\n",
       "      <td>NaN</td>\n",
       "    </tr>\n",
       "    <tr>\n",
       "      <th>1</th>\n",
       "      <td>2</td>\n",
       "      <td>I agree</td>\n",
       "      <td>I am a developer by profession</td>\n",
       "      <td>25-34 years old</td>\n",
       "      <td>Employed, full-time</td>\n",
       "      <td>...</td>\n",
       "      <td>DevOps function;Microservices;Automated testin...</td>\n",
       "      <td>Information Services, IT, Software Development...</td>\n",
       "      <td>Appropriate in length</td>\n",
       "      <td>Easy</td>\n",
       "      <td>285000.0</td>\n",
       "    </tr>\n",
       "    <tr>\n",
       "      <th>2</th>\n",
       "      <td>3</td>\n",
       "      <td>I agree</td>\n",
       "      <td>I am a developer by profession</td>\n",
       "      <td>45-54 years old</td>\n",
       "      <td>Employed, full-time</td>\n",
       "      <td>...</td>\n",
       "      <td>DevOps function;Microservices;Automated testin...</td>\n",
       "      <td>Information Services, IT, Software Development...</td>\n",
       "      <td>Appropriate in length</td>\n",
       "      <td>Easy</td>\n",
       "      <td>250000.0</td>\n",
       "    </tr>\n",
       "    <tr>\n",
       "      <th>3</th>\n",
       "      <td>4</td>\n",
       "      <td>I agree</td>\n",
       "      <td>I am a developer by profession</td>\n",
       "      <td>25-34 years old</td>\n",
       "      <td>Employed, full-time</td>\n",
       "      <td>...</td>\n",
       "      <td>Automated testing;Continuous integration (CI) ...</td>\n",
       "      <td>NaN</td>\n",
       "      <td>Appropriate in length</td>\n",
       "      <td>Easy</td>\n",
       "      <td>156000.0</td>\n",
       "    </tr>\n",
       "    <tr>\n",
       "      <th>4</th>\n",
       "      <td>5</td>\n",
       "      <td>I agree</td>\n",
       "      <td>I am a developer by profession</td>\n",
       "      <td>25-34 years old</td>\n",
       "      <td>Employed, full-time;Independent contractor, fr...</td>\n",
       "      <td>...</td>\n",
       "      <td>Microservices;Automated testing;Observability ...</td>\n",
       "      <td>Other</td>\n",
       "      <td>Appropriate in length</td>\n",
       "      <td>Neither easy nor difficult</td>\n",
       "      <td>23456.0</td>\n",
       "    </tr>\n",
       "  </tbody>\n",
       "</table>\n",
       "<p>5 rows × 84 columns</p>\n",
       "</div>"
      ],
      "text/plain": [
       "   ResponseId     Q120                      MainBranch              Age  \\\n",
       "0           1  I agree                   None of these  18-24 years old   \n",
       "1           2  I agree  I am a developer by profession  25-34 years old   \n",
       "2           3  I agree  I am a developer by profession  45-54 years old   \n",
       "3           4  I agree  I am a developer by profession  25-34 years old   \n",
       "4           5  I agree  I am a developer by profession  25-34 years old   \n",
       "\n",
       "                                          Employment  ...  \\\n",
       "0                                                NaN  ...   \n",
       "1                                Employed, full-time  ...   \n",
       "2                                Employed, full-time  ...   \n",
       "3                                Employed, full-time  ...   \n",
       "4  Employed, full-time;Independent contractor, fr...  ...   \n",
       "\n",
       "                                    ProfessionalTech  \\\n",
       "0                                                NaN   \n",
       "1  DevOps function;Microservices;Automated testin...   \n",
       "2  DevOps function;Microservices;Automated testin...   \n",
       "3  Automated testing;Continuous integration (CI) ...   \n",
       "4  Microservices;Automated testing;Observability ...   \n",
       "\n",
       "                                            Industry           SurveyLength  \\\n",
       "0                                                NaN                    NaN   \n",
       "1  Information Services, IT, Software Development...  Appropriate in length   \n",
       "2  Information Services, IT, Software Development...  Appropriate in length   \n",
       "3                                                NaN  Appropriate in length   \n",
       "4                                              Other  Appropriate in length   \n",
       "\n",
       "                   SurveyEase ConvertedCompYearly  \n",
       "0                         NaN                 NaN  \n",
       "1                        Easy            285000.0  \n",
       "2                        Easy            250000.0  \n",
       "3                        Easy            156000.0  \n",
       "4  Neither easy nor difficult             23456.0  \n",
       "\n",
       "[5 rows x 84 columns]"
      ]
     },
     "execution_count": 21,
     "metadata": {},
     "output_type": "execute_result"
    }
   ],
   "source": [
    "# visualizando as 5 primeiras linhas \n",
    "df.head()"
   ]
  },
  {
   "cell_type": "code",
   "execution_count": 22,
   "metadata": {},
   "outputs": [
    {
     "data": {
      "text/plain": [
       "(89184, 84)"
      ]
     },
     "execution_count": 22,
     "metadata": {},
     "output_type": "execute_result"
    }
   ],
   "source": [
    "df.shape"
   ]
  },
  {
   "cell_type": "code",
   "execution_count": 23,
   "metadata": {},
   "outputs": [
    {
     "data": {
      "text/plain": [
       "Index(['ResponseId', 'Q120', 'MainBranch', 'Age', 'Employment', 'RemoteWork',\n",
       "       'CodingActivities', 'EdLevel', 'LearnCode', 'LearnCodeOnline',\n",
       "       'LearnCodeCoursesCert', 'YearsCode', 'YearsCodePro', 'DevType',\n",
       "       'OrgSize', 'PurchaseInfluence', 'TechList', 'BuyNewTool', 'Country',\n",
       "       'Currency', 'CompTotal', 'LanguageHaveWorkedWith',\n",
       "       'LanguageWantToWorkWith', 'DatabaseHaveWorkedWith',\n",
       "       'DatabaseWantToWorkWith', 'PlatformHaveWorkedWith',\n",
       "       'PlatformWantToWorkWith', 'WebframeHaveWorkedWith',\n",
       "       'WebframeWantToWorkWith', 'MiscTechHaveWorkedWith',\n",
       "       'MiscTechWantToWorkWith', 'ToolsTechHaveWorkedWith',\n",
       "       'ToolsTechWantToWorkWith', 'NEWCollabToolsHaveWorkedWith',\n",
       "       'NEWCollabToolsWantToWorkWith', 'OpSysPersonal use',\n",
       "       'OpSysProfessional use', 'OfficeStackAsyncHaveWorkedWith',\n",
       "       'OfficeStackAsyncWantToWorkWith', 'OfficeStackSyncHaveWorkedWith',\n",
       "       'OfficeStackSyncWantToWorkWith', 'AISearchHaveWorkedWith',\n",
       "       'AISearchWantToWorkWith', 'AIDevHaveWorkedWith', 'AIDevWantToWorkWith',\n",
       "       'NEWSOSites', 'SOVisitFreq', 'SOAccount', 'SOPartFreq', 'SOComm',\n",
       "       'SOAI', 'AISelect', 'AISent', 'AIAcc', 'AIBen',\n",
       "       'AIToolInterested in Using', 'AIToolCurrently Using',\n",
       "       'AIToolNot interested in Using', 'AINextVery different',\n",
       "       'AINextNeither different nor similar', 'AINextSomewhat similar',\n",
       "       'AINextVery similar', 'AINextSomewhat different', 'TBranch', 'ICorPM',\n",
       "       'WorkExp', 'Knowledge_1', 'Knowledge_2', 'Knowledge_3', 'Knowledge_4',\n",
       "       'Knowledge_5', 'Knowledge_6', 'Knowledge_7', 'Knowledge_8',\n",
       "       'Frequency_1', 'Frequency_2', 'Frequency_3', 'TimeSearching',\n",
       "       'TimeAnswering', 'ProfessionalTech', 'Industry', 'SurveyLength',\n",
       "       'SurveyEase', 'ConvertedCompYearly'],\n",
       "      dtype='object')"
      ]
     },
     "execution_count": 23,
     "metadata": {},
     "output_type": "execute_result"
    }
   ],
   "source": [
    "df.columns"
   ]
  },
  {
   "cell_type": "markdown",
   "metadata": {},
   "source": [
    "- Podemos eliminar a coluna 'Q120', pois é só a flag que corresponde ao fato do respondente preencher que concorda com as condições e termos da pesquisa que foi realizada. \n",
    "- ResponseId também pode ser eliminado, pois é apenas um identificador, ou seja, não agrega informação relevante sobre as respostas em si.\n",
    "- Talvez as colunas SurveyLength e SurveyEase, pois dizem a respeito do proprio formulário e não sobre quem respondeu em si. Contudo, eu manteria so para validar a hipotese se quem respondeu que o formulário é muito longo e dificil, tenha dado respostas mais aleatórias do que quem respondeu que o formulário estava de tamanho adequado e facil respostas mais coerentes. "
   ]
  },
  {
   "cell_type": "code",
   "execution_count": 28,
   "metadata": {},
   "outputs": [],
   "source": [
    "# retirando as colunas indicadas como não úteis \n",
    "df = df.drop(axis=1, columns=['ResponseId', 'Q120'])"
   ]
  },
  {
   "cell_type": "markdown",
   "metadata": {
    "id": "fEs6lYvV333t"
   },
   "source": [
    "#### 2. Identifique o percentual de dados faltantes para as variáveis e mostre um gráfico de barras contendo as 5 mais frequentes. Como você lidaria com o caso de valores ausentes nesse caso?\n",
    "\n",
    "Não faça ainda nenhum pré-processamento referente à correção de dados faltantes :-)"
   ]
  },
  {
   "cell_type": "code",
   "execution_count": 72,
   "metadata": {},
   "outputs": [
    {
     "data": {
      "text/plain": [
       "AINextVery similar                     97.1\n",
       "AINextSomewhat similar                 93.0\n",
       "AINextNeither different nor similar    92.6\n",
       "AINextVery different                   85.8\n",
       "AIDevWantToWorkWith                    78.0\n",
       "dtype: float64"
      ]
     },
     "execution_count": 72,
     "metadata": {},
     "output_type": "execute_result"
    }
   ],
   "source": [
    "# percentual das 5 colunas mais frequentes com nulos \n",
    "((df.isnull().sum()/df.shape[0])*100).sort_values(ascending=False).round(1)[0:5] "
   ]
  },
  {
   "cell_type": "code",
   "execution_count": 73,
   "metadata": {},
   "outputs": [],
   "source": [
    "percent_null = ((df.isnull().sum()/df.shape[0])*100).sort_values(ascending=False).round(1)[0:5] "
   ]
  },
  {
   "cell_type": "code",
   "execution_count": 78,
   "metadata": {
    "id": "q_VVXskd333u"
   },
   "outputs": [
    {
     "data": {
      "image/png": "[encoded data removed]",
      "text/plain": [
       "<Figure size 800x400 with 1 Axes>"
      ]
     },
     "metadata": {},
     "output_type": "display_data"
    }
   ],
   "source": [
    "plt.figure(figsize=(8,4));\n",
    "sns.barplot(y=percent_null.index, x=percent_null.values);\n",
    "plt.title(\"Top 5 das colunas com mais valores faltantes\", size=14);"
   ]
  },
  {
   "cell_type": "markdown",
   "metadata": {},
   "source": [
    "- A opção mais adequada é eliminar essas colunas, pois todas tem mais de 75% de valores ausentes. "
   ]
  },
  {
   "cell_type": "markdown",
   "metadata": {
    "id": "jSJwO3qj333w"
   },
   "source": [
    "#### 3. Faça um histograma da variável salário (convertido para dólar, `ConvertedCompYearly`). Qual é o comportamento desta variável? O que podemos extrair de informação útil?"
   ]
  },
  {
   "cell_type": "code",
   "execution_count": null,
   "metadata": {
    "id": "HMl2Kk5j333w"
   },
   "outputs": [],
   "source": []
  },
  {
   "cell_type": "markdown",
   "metadata": {
    "id": "CRXjdJR8333x"
   },
   "source": [
    "#### 4. Escolha uma variável numérica e outra categórica e aplique uma transformação dos dados (normalização e categorização). Justifique o uso da técnica empregada."
   ]
  },
  {
   "cell_type": "code",
   "execution_count": null,
   "metadata": {
    "id": "Ggf97KS2333y"
   },
   "outputs": [],
   "source": []
  },
  {
   "cell_type": "markdown",
   "metadata": {
    "id": "B4zikmLI333y"
   },
   "source": [
    "#### 5. Para cada grau diferente de educação, faça o gráfico de distribuição de anos trabalhando com código sem ser profissional (`YearsCod`). Existe uma diferença na distribuição de acordo com a escolaridade? Discuta."
   ]
  },
  {
   "cell_type": "markdown",
   "metadata": {
    "id": "f29a1_yj333z"
   },
   "source": []
  },
  {
   "cell_type": "markdown",
   "metadata": {
    "id": "QgM3c0GO333z"
   },
   "source": [
    "#### 6. Faça a contagem da quantidade percentual de países `Country` por tipo de trabalho `RemoteWork`. Faça um gráfico correspondente a esta parte, mostrando apenas as frequências dos 5 países mais frequentes na base de dados."
   ]
  },
  {
   "cell_type": "code",
   "execution_count": null,
   "metadata": {
    "id": "p7Vma9tr333z"
   },
   "outputs": [],
   "source": []
  },
  {
   "cell_type": "markdown",
   "metadata": {
    "id": "wY-5hyYt333z"
   },
   "source": [
    "#### 7. Faça um gráfico em que você consiga obter insights sobre a relação entre `EdLevel` e `DevType`."
   ]
  },
  {
   "cell_type": "code",
   "execution_count": null,
   "metadata": {
    "id": "Yf1Kve0I3330"
   },
   "outputs": [],
   "source": []
  },
  {
   "cell_type": "markdown",
   "metadata": {
    "id": "kQp4vji33331"
   },
   "source": [
    "#### 8. Com base nos dados, faça uma análise sobre a relação entre o tipo de trabalho `RemoteWork` com o tamanho da empresa `OrgSize`."
   ]
  },
  {
   "cell_type": "code",
   "execution_count": null,
   "metadata": {
    "id": "5wjwL0nk3331"
   },
   "outputs": [],
   "source": []
  },
  {
   "cell_type": "markdown",
   "metadata": {
    "id": "S5M_MOeZ3332"
   },
   "source": [
    "#### 9. Existe uma relação direta entre a variável `YearsCodPro` e o salário? Aplique a correlação linear e discuta o resultado."
   ]
  },
  {
   "cell_type": "code",
   "execution_count": null,
   "metadata": {
    "id": "CJa1iejh3332"
   },
   "outputs": [],
   "source": []
  },
  {
   "cell_type": "markdown",
   "metadata": {
    "id": "7x11DFQP3332"
   },
   "source": [
    "#### 10. Faça outra análise que você julgue interessante para esta base de dados."
   ]
  },
  {
   "cell_type": "markdown",
   "metadata": {
    "id": "hrBSzQCT3332"
   },
   "source": []
  }
 ],
 "metadata": {
  "colab": {
   "provenance": []
  },
  "kernelspec": {
   "display_name": "Python 3 (ipykernel)",
   "language": "python",
   "name": "python3"
  },
  "language_info": {
   "codemirror_mode": {
    "name": "ipython",
    "version": 3
   },
   "file_extension": ".py",
   "mimetype": "text/x-python",
   "name": "python",
   "nbconvert_exporter": "python",
   "pygments_lexer": "ipython3",
   "version": "3.11.4"
  }
 },
 "nbformat": 4,
 "nbformat_minor": 4
}
